{
 "cells": [
  {
   "cell_type": "markdown",
   "id": "a1680d4b-49a6-4c8e-9a63-dba8c0d920a2",
   "metadata": {},
   "source": [
    "# Cortex Analyst - Semantic Model Generator Notebook"
   ]
  },
  {
   "cell_type": "markdown",
   "id": "fa3586ea",
   "metadata": {},
   "source": [
    "*** Before you start with the notebook, please rename the file `rename_this_file_to_dot_env.txt` to `.env` *** "
   ]
  },
  {
   "cell_type": "markdown",
   "id": "fae29d06",
   "metadata": {},
   "source": [
    "### Install Semantic Model Generator\n"
   ]
  },
  {
   "cell_type": "code",
   "execution_count": null,
   "id": "318a7e29",
   "metadata": {},
   "outputs": [],
   "source": [
    "!git clone https://github.com/Snowflake-Labs/semantic-model-generator.git"
   ]
  },
  {
   "cell_type": "code",
   "execution_count": null,
   "id": "37810301",
   "metadata": {},
   "outputs": [],
   "source": [
    "!pip install ./../dist/semantic_model_generator-0.1.20-py3-none-any.whl --quiet"
   ]
  },
  {
   "cell_type": "code",
   "execution_count": null,
   "id": "f1452602",
   "metadata": {},
   "outputs": [],
   "source": [
    "!pip uninstall dotenv\n",
    "!pip install python-dotenv --quiet\n"
   ]
  },
  {
   "cell_type": "code",
   "execution_count": null,
   "id": "3121cf76",
   "metadata": {},
   "outputs": [],
   "source": [
    "# Dotenv\n",
    "from dotenv import load_dotenv\n",
    "import os\n"
   ]
  },
  {
   "cell_type": "markdown",
   "id": "4cc59f52",
   "metadata": {},
   "source": [
    "### Read the environment variables\n"
   ]
  },
  {
   "cell_type": "code",
   "execution_count": null,
   "id": "0548ff38",
   "metadata": {},
   "outputs": [],
   "source": [
    "load_dotenv()\n",
    "\n",
    "print(f\"Snowflake Account: {os.getenv('SNOWFLAKE_HOST')}\")\n",
    "print(f\"Snowflake User: {os.getenv('SNOWFLAKE_USER')}\")\n",
    "print(f\"Snowflake Role: {os.getenv('SNOWFLAKE_ROLE')}\")\n",
    "print(f\"Snowflake Warehouse: {os.getenv('SNOWFLAKE_WAREHOUSE')}\")\n"
   ]
  },
  {
   "cell_type": "markdown",
   "id": "3b26f52d",
   "metadata": {},
   "source": [
    "### Generate the yaml file"
   ]
  },
  {
   "cell_type": "code",
   "execution_count": null,
   "id": "5e44fad9",
   "metadata": {},
   "outputs": [],
   "source": [
    "from semantic_model_generator.generate_model import generate_base_semantic_model_from_snowflake\n",
    "\n",
    "BASE_TABLES = ['<your-database-name-1>.<your-schema-name-1>.<your-base-table-or-view-name-1>','<your-database-name-2>.<your-schema-name-2>.<your-base-table-or-view-name-2>']\n",
    "SEMANTIC_MODEL_NAME = \"<a-meaningful-semantic-model-name>\"\n",
    "\n",
    "\n",
    "generate_base_semantic_model_from_snowflake(\n",
    "    base_tables=BASE_TABLES,\n",
    "    snowflake_account= f\"{os.getenv('SNOWFLAKE_HOST')}\",\n",
    "    semantic_model_name=SEMANTIC_MODEL_NAME\n",
    ")"
   ]
  },
  {
   "cell_type": "markdown",
   "id": "592c153e",
   "metadata": {},
   "source": [
    "### Validate the yaml file"
   ]
  },
  {
   "cell_type": "code",
   "execution_count": null,
   "id": "25d8b93c",
   "metadata": {},
   "outputs": [],
   "source": [
    "from semantic_model_generator.validate_model import validate_from_local_path\n",
    "\n",
    "YAML_PATH=\"/path/to/your/model_yaml.yaml\"\n",
    "SNOWFLAKE_ACCOUNT=f\"{os.getenv('SNOWFLAKE_HOST')}\"\n",
    "\n",
    "validate_from_local_path(\n",
    "    yaml_path=YAML_PATH,\n",
    "    snowflake_account=SNOWFLAKE_ACCOUNT\n",
    ")"
   ]
  }
 ],
 "metadata": {
  "kernelspec": {
   "display_name": "Python 3 (ipykernel)",
   "language": "python",
   "name": "python3"
  },
  "language_info": {
   "codemirror_mode": {
    "name": "ipython",
    "version": 3
   },
   "file_extension": ".py",
   "mimetype": "text/x-python",
   "name": "python",
   "nbconvert_exporter": "python",
   "pygments_lexer": "ipython3",
   "version": "3.8.16"
  }
 },
 "nbformat": 4,
 "nbformat_minor": 5
}
